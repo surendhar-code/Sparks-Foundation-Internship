{
  "nbformat": 4,
  "nbformat_minor": 0,
  "metadata": {
    "colab": {
      "name": "Sparks Foundation Internship - Task 1 - Supervised Machine Learning .ipynb",
      "provenance": [],
      "collapsed_sections": []
    },
    "kernelspec": {
      "name": "python3",
      "display_name": "Python 3"
    }
  },
  "cells": [
    {
      "cell_type": "markdown",
      "metadata": {
        "id": "Bz4BwiLjbgH9"
      },
      "source": [
        "<h4>My First task in Sparks Foundation Internship - Predict the percentage of an student based on the no. of study hours.</h4><br>\r\n",
        "This is a simple linear regression task as it involves just 2 variables."
      ]
    },
    {
      "cell_type": "markdown",
      "metadata": {
        "id": "kul0XV0efJiS"
      },
      "source": [
        "<h2>What is linear regression?</h2>\r\n",
        "Linear regression attempts to model the relationship between two variables by fitting a linear equation to observed data. One variable is considered to be an independent variable, and the other is considered to be a dependent variable.\r\n"
      ]
    },
    {
      "cell_type": "code",
      "metadata": {
        "id": "BOGQdI_YPyIJ"
      },
      "source": [
        "#Importing important libraries\r\n",
        "import numpy as np\r\n",
        "import pandas as pd\r\n",
        "import matplotlib.pyplot as plt\r\n",
        "from sklearn.model_selection import train_test_split \r\n",
        "from sklearn.linear_model import LinearRegression\r\n"
      ],
      "execution_count": 1,
      "outputs": []
    },
    {
      "cell_type": "markdown",
      "metadata": {
        "id": "wHN1paXjdyjV"
      },
      "source": [
        "Reading the data"
      ]
    },
    {
      "cell_type": "code",
      "metadata": {
        "colab": {
          "base_uri": "https://localhost:8080/",
          "height": 787
        },
        "id": "IV39bFirQdO-",
        "outputId": "3bfdc529-e800-4509-f199-511e2cad3ec2"
      },
      "source": [
        "data=pd.read_csv(\"http://bit.ly/w-data\")\r\n",
        "data"
      ],
      "execution_count": 2,
      "outputs": [
        {
          "output_type": "execute_result",
          "data": {
            "text/html": [
              "<div>\n",
              "<style scoped>\n",
              "    .dataframe tbody tr th:only-of-type {\n",
              "        vertical-align: middle;\n",
              "    }\n",
              "\n",
              "    .dataframe tbody tr th {\n",
              "        vertical-align: top;\n",
              "    }\n",
              "\n",
              "    .dataframe thead th {\n",
              "        text-align: right;\n",
              "    }\n",
              "</style>\n",
              "<table border=\"1\" class=\"dataframe\">\n",
              "  <thead>\n",
              "    <tr style=\"text-align: right;\">\n",
              "      <th></th>\n",
              "      <th>Hours</th>\n",
              "      <th>Scores</th>\n",
              "    </tr>\n",
              "  </thead>\n",
              "  <tbody>\n",
              "    <tr>\n",
              "      <th>0</th>\n",
              "      <td>2.5</td>\n",
              "      <td>21</td>\n",
              "    </tr>\n",
              "    <tr>\n",
              "      <th>1</th>\n",
              "      <td>5.1</td>\n",
              "      <td>47</td>\n",
              "    </tr>\n",
              "    <tr>\n",
              "      <th>2</th>\n",
              "      <td>3.2</td>\n",
              "      <td>27</td>\n",
              "    </tr>\n",
              "    <tr>\n",
              "      <th>3</th>\n",
              "      <td>8.5</td>\n",
              "      <td>75</td>\n",
              "    </tr>\n",
              "    <tr>\n",
              "      <th>4</th>\n",
              "      <td>3.5</td>\n",
              "      <td>30</td>\n",
              "    </tr>\n",
              "    <tr>\n",
              "      <th>5</th>\n",
              "      <td>1.5</td>\n",
              "      <td>20</td>\n",
              "    </tr>\n",
              "    <tr>\n",
              "      <th>6</th>\n",
              "      <td>9.2</td>\n",
              "      <td>88</td>\n",
              "    </tr>\n",
              "    <tr>\n",
              "      <th>7</th>\n",
              "      <td>5.5</td>\n",
              "      <td>60</td>\n",
              "    </tr>\n",
              "    <tr>\n",
              "      <th>8</th>\n",
              "      <td>8.3</td>\n",
              "      <td>81</td>\n",
              "    </tr>\n",
              "    <tr>\n",
              "      <th>9</th>\n",
              "      <td>2.7</td>\n",
              "      <td>25</td>\n",
              "    </tr>\n",
              "    <tr>\n",
              "      <th>10</th>\n",
              "      <td>7.7</td>\n",
              "      <td>85</td>\n",
              "    </tr>\n",
              "    <tr>\n",
              "      <th>11</th>\n",
              "      <td>5.9</td>\n",
              "      <td>62</td>\n",
              "    </tr>\n",
              "    <tr>\n",
              "      <th>12</th>\n",
              "      <td>4.5</td>\n",
              "      <td>41</td>\n",
              "    </tr>\n",
              "    <tr>\n",
              "      <th>13</th>\n",
              "      <td>3.3</td>\n",
              "      <td>42</td>\n",
              "    </tr>\n",
              "    <tr>\n",
              "      <th>14</th>\n",
              "      <td>1.1</td>\n",
              "      <td>17</td>\n",
              "    </tr>\n",
              "    <tr>\n",
              "      <th>15</th>\n",
              "      <td>8.9</td>\n",
              "      <td>95</td>\n",
              "    </tr>\n",
              "    <tr>\n",
              "      <th>16</th>\n",
              "      <td>2.5</td>\n",
              "      <td>30</td>\n",
              "    </tr>\n",
              "    <tr>\n",
              "      <th>17</th>\n",
              "      <td>1.9</td>\n",
              "      <td>24</td>\n",
              "    </tr>\n",
              "    <tr>\n",
              "      <th>18</th>\n",
              "      <td>6.1</td>\n",
              "      <td>67</td>\n",
              "    </tr>\n",
              "    <tr>\n",
              "      <th>19</th>\n",
              "      <td>7.4</td>\n",
              "      <td>69</td>\n",
              "    </tr>\n",
              "    <tr>\n",
              "      <th>20</th>\n",
              "      <td>2.7</td>\n",
              "      <td>30</td>\n",
              "    </tr>\n",
              "    <tr>\n",
              "      <th>21</th>\n",
              "      <td>4.8</td>\n",
              "      <td>54</td>\n",
              "    </tr>\n",
              "    <tr>\n",
              "      <th>22</th>\n",
              "      <td>3.8</td>\n",
              "      <td>35</td>\n",
              "    </tr>\n",
              "    <tr>\n",
              "      <th>23</th>\n",
              "      <td>6.9</td>\n",
              "      <td>76</td>\n",
              "    </tr>\n",
              "    <tr>\n",
              "      <th>24</th>\n",
              "      <td>7.8</td>\n",
              "      <td>86</td>\n",
              "    </tr>\n",
              "  </tbody>\n",
              "</table>\n",
              "</div>"
            ],
            "text/plain": [
              "    Hours  Scores\n",
              "0     2.5      21\n",
              "1     5.1      47\n",
              "2     3.2      27\n",
              "3     8.5      75\n",
              "4     3.5      30\n",
              "5     1.5      20\n",
              "6     9.2      88\n",
              "7     5.5      60\n",
              "8     8.3      81\n",
              "9     2.7      25\n",
              "10    7.7      85\n",
              "11    5.9      62\n",
              "12    4.5      41\n",
              "13    3.3      42\n",
              "14    1.1      17\n",
              "15    8.9      95\n",
              "16    2.5      30\n",
              "17    1.9      24\n",
              "18    6.1      67\n",
              "19    7.4      69\n",
              "20    2.7      30\n",
              "21    4.8      54\n",
              "22    3.8      35\n",
              "23    6.9      76\n",
              "24    7.8      86"
            ]
          },
          "metadata": {
            "tags": []
          },
          "execution_count": 2
        }
      ]
    },
    {
      "cell_type": "markdown",
      "metadata": {
        "id": "OGCluP1Nd3xc"
      },
      "source": [
        "Visualizing using scatter plot"
      ]
    },
    {
      "cell_type": "code",
      "metadata": {
        "colab": {
          "base_uri": "https://localhost:8080/",
          "height": 295
        },
        "id": "CdHRt5nbbk1j",
        "outputId": "3ddc29d5-89a3-4535-a1f1-83ee62c8083b"
      },
      "source": [
        "#Visualizing using scatterplot\r\n",
        "data.plot(x='Hours',y='Scores',style='o')\r\n",
        "plt.xlabel(\"No.of.Hours\")\r\n",
        "plt.ylabel(\"Score\")\r\n",
        "plt.title(\"Hours vs Score\")\r\n",
        "plt.show()"
      ],
      "execution_count": 3,
      "outputs": [
        {
          "output_type": "display_data",
          "data": {
            "image/png": "[encoded data removed]",
            "text/plain": [
              "<Figure size 432x288 with 1 Axes>"
            ]
          },
          "metadata": {
            "tags": [],
            "needs_background": "light"
          }
        }
      ]
    },
    {
      "cell_type": "markdown",
      "metadata": {
        "id": "MJ7WVqt4eD-s"
      },
      "source": [
        "Assigning independent var \"Hours\" to X and dependent var \"scores\" to Y"
      ]
    },
    {
      "cell_type": "code",
      "metadata": {
        "id": "yXj8JN-5QyRh"
      },
      "source": [
        "# Assigning independent var \"Hours\" to X and dependent var \"scores\" to Y\r\n",
        "X=np.array(data['Hours'])\r\n",
        "\r\n",
        "Y=np.array(data['Scores'])"
      ],
      "execution_count": 4,
      "outputs": []
    },
    {
      "cell_type": "markdown",
      "metadata": {
        "id": "Lavdxy2keItS"
      },
      "source": [
        "Splitting the dataset into train and test data"
      ]
    },
    {
      "cell_type": "code",
      "metadata": {
        "id": "LeFphkGEV-M-"
      },
      "source": [
        "#Splitting the dataset into train and test dataset \r\n",
        "x_train, x_test, y_train, y_test = train_test_split(X, Y, \r\n",
        "                            test_size=0.2, random_state=1) "
      ],
      "execution_count": 5,
      "outputs": []
    },
    {
      "cell_type": "markdown",
      "metadata": {
        "id": "Ui4YK9KgeQQ-"
      },
      "source": [
        "Creating a Linear Regression Model"
      ]
    },
    {
      "cell_type": "code",
      "metadata": {
        "colab": {
          "base_uri": "https://localhost:8080/"
        },
        "id": "_SR8-VFZRUhP",
        "outputId": "408d353b-fe2c-4cac-adc6-9938b09db6f3"
      },
      "source": [
        "#Fitting the values into linear regression model\r\n",
        "linear_reg=LinearRegression()\r\n",
        "linear_reg.fit(x_train.reshape(-1,1),y_train)\r\n"
      ],
      "execution_count": 6,
      "outputs": [
        {
          "output_type": "execute_result",
          "data": {
            "text/plain": [
              "LinearRegression(copy_X=True, fit_intercept=True, n_jobs=None, normalize=False)"
            ]
          },
          "metadata": {
            "tags": []
          },
          "execution_count": 6
        }
      ]
    },
    {
      "cell_type": "code",
      "metadata": {
        "colab": {
          "base_uri": "https://localhost:8080/"
        },
        "id": "hlZiqj7_cW0L",
        "outputId": "d70b0b24-74de-4d2e-ba8f-53db083bc105"
      },
      "source": [
        "#coefficients and intercepts\r\n",
        "print(\"Linear Regression model coefficient : \",linear_reg.coef_)\r\n",
        "print(\"Linear Regression model intercepts : \",linear_reg.intercept_)"
      ],
      "execution_count": 7,
      "outputs": [
        {
          "output_type": "stream",
          "text": [
            "Linear Regression model coefficient :  [10.46110829]\n",
            "Linear Regression model intercepts :  -1.5369573315500702\n"
          ],
          "name": "stdout"
        }
      ]
    },
    {
      "cell_type": "code",
      "metadata": {
        "colab": {
          "base_uri": "https://localhost:8080/",
          "height": 265
        },
        "id": "jzWRlOeAg1XK",
        "outputId": "a3a73345-0b30-4e4d-86ef-a1ff98fcc89e"
      },
      "source": [
        "# visualizing to see the regresssion line\r\n",
        "reg_line = linear_reg.coef_*x_train+linear_reg.intercept_\r\n",
        "\r\n",
        "# Plotting for the test data\r\n",
        "plt.scatter(x_train, y_train)\r\n",
        "plt.plot(x_train, reg_line);\r\n",
        "plt.show()"
      ],
      "execution_count": 15,
      "outputs": [
        {
          "output_type": "display_data",
          "data": {
            "image/png": "[encoded data removed]",
            "text/plain": [
              "<Figure size 432x288 with 1 Axes>"
            ]
          },
          "metadata": {
            "tags": [],
            "needs_background": "light"
          }
        }
      ]
    },
    {
      "cell_type": "markdown",
      "metadata": {
        "id": "gvNizv1IeX0S"
      },
      "source": [
        "\r\n",
        "Prediction using test data"
      ]
    },
    {
      "cell_type": "code",
      "metadata": {
        "colab": {
          "base_uri": "https://localhost:8080/"
        },
        "id": "ShwDD4odRyo8",
        "outputId": "90923998-82ab-410a-af32-dad6e8d83e62"
      },
      "source": [
        "#Prediction using test data\r\n",
        "Yhat=linear_reg.predict(np.array(x_test).reshape(-1,1))\r\n",
        "Yhat"
      ],
      "execution_count": 8,
      "outputs": [
        {
          "output_type": "execute_result",
          "data": {
            "text/plain": [
              "array([ 9.97026179, 32.98470004, 18.33914843, 87.38246316, 48.67636248])"
            ]
          },
          "metadata": {
            "tags": []
          },
          "execution_count": 8
        }
      ]
    },
    {
      "cell_type": "markdown",
      "metadata": {
        "id": "1_k3FtSDekgn"
      },
      "source": [
        "Comparing actual test data and predicted test data"
      ]
    },
    {
      "cell_type": "code",
      "metadata": {
        "colab": {
          "base_uri": "https://localhost:8080/",
          "height": 195
        },
        "id": "EUc8RhpvXusF",
        "outputId": "ba4e6ff5-4164-441b-c7cd-a7aae846fb9a"
      },
      "source": [
        "# Creating Actual and predicted value dataframe\r\n",
        "act_pred_dict={'Actual data':y_test,'Predicted data':Yhat} \r\n",
        "act_pred_df=pd.DataFrame(act_pred_dict)\r\n",
        "act_pred_df"
      ],
      "execution_count": 9,
      "outputs": [
        {
          "output_type": "execute_result",
          "data": {
            "text/html": [
              "<div>\n",
              "<style scoped>\n",
              "    .dataframe tbody tr th:only-of-type {\n",
              "        vertical-align: middle;\n",
              "    }\n",
              "\n",
              "    .dataframe tbody tr th {\n",
              "        vertical-align: top;\n",
              "    }\n",
              "\n",
              "    .dataframe thead th {\n",
              "        text-align: right;\n",
              "    }\n",
              "</style>\n",
              "<table border=\"1\" class=\"dataframe\">\n",
              "  <thead>\n",
              "    <tr style=\"text-align: right;\">\n",
              "      <th></th>\n",
              "      <th>Actual data</th>\n",
              "      <th>Predicted data</th>\n",
              "    </tr>\n",
              "  </thead>\n",
              "  <tbody>\n",
              "    <tr>\n",
              "      <th>0</th>\n",
              "      <td>17</td>\n",
              "      <td>9.970262</td>\n",
              "    </tr>\n",
              "    <tr>\n",
              "      <th>1</th>\n",
              "      <td>42</td>\n",
              "      <td>32.984700</td>\n",
              "    </tr>\n",
              "    <tr>\n",
              "      <th>2</th>\n",
              "      <td>24</td>\n",
              "      <td>18.339148</td>\n",
              "    </tr>\n",
              "    <tr>\n",
              "      <th>3</th>\n",
              "      <td>75</td>\n",
              "      <td>87.382463</td>\n",
              "    </tr>\n",
              "    <tr>\n",
              "      <th>4</th>\n",
              "      <td>54</td>\n",
              "      <td>48.676362</td>\n",
              "    </tr>\n",
              "  </tbody>\n",
              "</table>\n",
              "</div>"
            ],
            "text/plain": [
              "   Actual data  Predicted data\n",
              "0           17        9.970262\n",
              "1           42       32.984700\n",
              "2           24       18.339148\n",
              "3           75       87.382463\n",
              "4           54       48.676362"
            ]
          },
          "metadata": {
            "tags": []
          },
          "execution_count": 9
        }
      ]
    },
    {
      "cell_type": "markdown",
      "metadata": {
        "id": "9xwUIy0_ep6j"
      },
      "source": [
        "Evaluating our model using metrics to see the performance"
      ]
    },
    {
      "cell_type": "code",
      "metadata": {
        "colab": {
          "base_uri": "https://localhost:8080/"
        },
        "id": "z-xZvDooTgQa",
        "outputId": "5d2e06ec-c1e6-493d-983d-3654ada330c2"
      },
      "source": [
        "#Evaluating Algorithm using metrics\r\n",
        "from sklearn import metrics\r\n",
        "mean_square_error=metrics.mean_squared_error(Yhat,y_test)\r\n",
        "print(\"The Mean square error is : \",mean_square_error)\r\n",
        "mean_absolute_error=metrics.mean_absolute_error(Yhat,y_test)\r\n",
        "print(\"The mean absolute error is : \",mean_absolute_error)"
      ],
      "execution_count": 10,
      "outputs": [
        {
          "output_type": "stream",
          "text": [
            "The Mean square error is :  68.88092074277635\n",
            "The mean absolute error is :  7.882398086270432\n"
          ],
          "name": "stdout"
        }
      ]
    },
    {
      "cell_type": "markdown",
      "metadata": {
        "id": "iOh2yHFLe-SH"
      },
      "source": [
        "Predicting the score for input hour 9.25"
      ]
    },
    {
      "cell_type": "code",
      "metadata": {
        "colab": {
          "base_uri": "https://localhost:8080/"
        },
        "id": "L8TiPe9FT754",
        "outputId": "ccf47039-3690-4055-a196-474c179d0780"
      },
      "source": [
        "#Predicting the  model using real world data\r\n",
        "hours=float(input(\"Enter the hours : \"))\r\n",
        "score=linear_reg.predict(np.array(hours).reshape(-1,1))\r\n",
        "print(\"The predicted score for the hour {0} is {1}\".format(hours,score))"
      ],
      "execution_count": 11,
      "outputs": [
        {
          "output_type": "stream",
          "text": [
            "Enter the hours : 9.25\n",
            "The predicted score for the hour 9.25 is [95.22829438]\n"
          ],
          "name": "stdout"
        }
      ]
    },
    {
      "cell_type": "markdown",
      "metadata": {
        "id": "nKWCyILegCtD"
      },
      "source": [
        "From the above result we can say that the student can take 95.22 percentage when he/she studied for 9.25 hours."
      ]
    },
    {
      "cell_type": "code",
      "metadata": {
        "id": "O2KTS_-1Zq71"
      },
      "source": [
        ""
      ],
      "execution_count": 11,
      "outputs": []
    }
  ]
}